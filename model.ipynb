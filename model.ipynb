{
 "cells": [
  {
   "cell_type": "code",
   "execution_count": null,
   "metadata": {},
   "outputs": [],
   "source": [
    "from pokemon_image import *\n",
    "from affine_transform import *\n",
    "from tqdm import tqdm\n",
    "import pickle"
   ]
  },
  {
   "cell_type": "code",
   "execution_count": null,
   "metadata": {},
   "outputs": [],
   "source": [
    "# TRANSFORMATIONS = 50\n",
    "\n",
    "# def affine_transform_data(data):\n",
    "#     return [affine_transform_pokemon_image(i) for i in data]\n",
    "\n",
    "# data = load_image_data(\"images\", \"images/annotations.json\")\n",
    "# full_dataset = []\n",
    "# for _ in tqdm(range(TRANSFORMATIONS)):\n",
    "#     transformed_data = affine_transform_data(data)\n",
    "#     training_data = [\n",
    "#         (i.resized_image, torch.tensor(i.resized_annotation).flatten())\n",
    "#         for i in transformed_data\n",
    "#     ]\n",
    "#     full_dataset.extend(training_data)\n",
    "# full_dataset += [\n",
    "#     (i.resized_image, torch.tensor(i.resized_annotation).flatten()) for i in data\n",
    "# ]\n",
    "\n",
    "# with open(\"full_dataset.pkl\", \"wb\") as f:\n",
    "#     pickle.dump(full_dataset, f)"
   ]
  },
  {
   "cell_type": "code",
   "execution_count": null,
   "metadata": {},
   "outputs": [],
   "source": [
    "# Specify the path to your pickle file\n",
    "pickle_file = \"full_dataset.pkl\"\n",
    "\n",
    "# Load the data from the pickle file\n",
    "with open(pickle_file, \"rb\") as f:\n",
    "    full_dataset = pickle.load(f)"
   ]
  },
  {
   "cell_type": "code",
   "execution_count": null,
   "metadata": {},
   "outputs": [],
   "source": [
    "from torch.utils.data import DataLoader\n",
    "\n",
    "dataset = PokemonData(full_dataset)\n",
    "dataloader = DataLoader(dataset, batch_size=32, shuffle=True)"
   ]
  },
  {
   "cell_type": "code",
   "execution_count": null,
   "metadata": {},
   "outputs": [],
   "source": [
    "import torch.nn as nn\n",
    "import timm\n",
    "import torch.optim as optim\n",
    "from torch.nn import MSELoss\n",
    "from datetime import datetime\n",
    "\n",
    "\n",
    "def create_model():\n",
    "    model = timm.create_model(\"hrnet_w18\", pretrained=True)\n",
    "    model.classifier = nn.Linear(2048, 32)\n",
    "    loss_fn = MSELoss()\n",
    "    return model.to(\"cuda\")\n",
    "\n",
    "\n",
    "def save_checkpoint(model, optimizer, epoch, checkpoint_dir, is_final_layer):\n",
    "    # Current time\n",
    "    now = datetime.now()\n",
    "    timestamp = now.strftime(\"%Y-%m-%d_%H-%M-%S\")\n",
    "\n",
    "    # Checkpoint filename\n",
    "    layer_status = \"final_layer\" if is_final_layer else \"full_model\"\n",
    "    checkpoint_filename = f\"checkpoint_{layer_status}_epoch_{epoch}_{timestamp}.pt\"\n",
    "\n",
    "    # Full path for saving\n",
    "    checkpoint_path = os.path.join(checkpoint_dir, checkpoint_filename)\n",
    "\n",
    "    torch.save(\n",
    "        {\n",
    "            \"epoch\": epoch,\n",
    "            \"model_state_dict\": model.state_dict(),\n",
    "            \"optimizer_state_dict\": optimizer.state_dict(),\n",
    "        },\n",
    "        checkpoint_path,\n",
    "    )\n",
    "    print(f\"Saved checkpoint to {checkpoint_path}\")\n",
    "\n",
    "\n",
    "def train_model(\n",
    "    model,\n",
    "    dataloader,\n",
    "    optimizer,\n",
    "    loss_fn,\n",
    "    num_epochs,\n",
    "    is_final_layer_only,\n",
    "    save_epochs,\n",
    "    checkpoint_dir,\n",
    "):\n",
    "    for epoch in range(num_epochs):\n",
    "        running_loss = 0.0  # reset running loss for each epoch\n",
    "        for i, (inputs, targets) in enumerate(dataloader):\n",
    "            inputs, targets = inputs.to(\"cuda\"), targets.to(\"cuda\")\n",
    "\n",
    "            optimizer.zero_grad()\n",
    "            outputs = model(inputs)\n",
    "            loss = loss_fn(outputs, targets)\n",
    "            loss.backward()\n",
    "            optimizer.step()\n",
    "            running_loss += loss.item()  # add up batch loss\n",
    "\n",
    "        avg_loss = running_loss / len(dataloader)  # calculate average loss\n",
    "        print(f\"Epoch {epoch+1}, Loss: {avg_loss}\")\n",
    "\n",
    "        # Save a checkpoint every n epochs\n",
    "        if (epoch + 1) % save_epochs == 0:\n",
    "            save_checkpoint(\n",
    "                model, optimizer, epoch, checkpoint_dir, is_final_layer_only\n",
    "            )"
   ]
  },
  {
   "cell_type": "code",
   "execution_count": null,
   "metadata": {},
   "outputs": [],
   "source": [
    "class ModelConfig:\n",
    "    save_epochs = 5\n",
    "    final_layer_epochs = 10\n",
    "    full_model_epochs = 5\n",
    "    checkpoint_dir = \"model_checkpoints\"\n",
    "    final_layer_learning_rate = 0.01\n",
    "    full_model_learning_rate = 0.001"
   ]
  },
  {
   "cell_type": "code",
   "execution_count": null,
   "metadata": {},
   "outputs": [],
   "source": [
    "model = create_model()\n",
    "loss_fn = MSELoss()"
   ]
  },
  {
   "cell_type": "code",
   "execution_count": null,
   "metadata": {},
   "outputs": [],
   "source": [
    "# Phase 1: Train only the final layer\n",
    "for name, param in model.named_parameters():\n",
    "    if \"classifier\" not in name:\n",
    "        param.requires_grad = False\n",
    "\n",
    "optimizer = optim.Adam(model.parameters(), lr=ModelConfig.final_layer_learning_rate)\n",
    "train_model(\n",
    "    model=model,\n",
    "    dataloader=dataloader,\n",
    "    optimizer=optimizer,\n",
    "    loss_fn=loss_fn,\n",
    "    num_epochs=ModelConfig.final_layer_epochs,\n",
    "    is_final_layer_only=True,\n",
    "    save_epochs=ModelConfig.save_epochs,\n",
    "    checkpoint_dir=ModelConfig.checkpoint_dir,\n",
    ")"
   ]
  },
  {
   "cell_type": "code",
   "execution_count": null,
   "metadata": {},
   "outputs": [],
   "source": [
    "# Phase 2: Train the entire model\n",
    "for param in model.parameters():\n",
    "    param.requires_grad = True\n",
    "\n",
    "optimizer = optim.Adam(model.parameters(), lr=ModelConfig.full_model_learning_rate)\n",
    "train_model(\n",
    "    model=model,\n",
    "    dataloader=dataloader,\n",
    "    optimizer=optimizer,\n",
    "    loss_fn=loss_fn,\n",
    "    num_epochs=ModelConfig.full_model_epochs,\n",
    "    is_final_layer_only=False,\n",
    "    save_epochs=ModelConfig.save_epochs,\n",
    "    checkpoint_dir=ModelConfig.checkpoint_dir,\n",
    ")"
   ]
  }
 ],
 "metadata": {
  "kernelspec": {
   "display_name": "Python 3.9.0 ('test_env': venv)",
   "language": "python",
   "name": "python3"
  },
  "language_info": {
   "codemirror_mode": {
    "name": "ipython",
    "version": 3
   },
   "file_extension": ".py",
   "mimetype": "text/x-python",
   "name": "python",
   "nbconvert_exporter": "python",
   "pygments_lexer": "ipython3",
   "version": "3.9.0"
  },
  "orig_nbformat": 4,
  "vscode": {
   "interpreter": {
    "hash": "c80c09c1b298b3abc58855546266a88101147539d25dab50d705a2cf327760dc"
   }
  }
 },
 "nbformat": 4,
 "nbformat_minor": 2
}
