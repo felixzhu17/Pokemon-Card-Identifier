{
 "cells": [
  {
   "cell_type": "code",
   "execution_count": 1,
   "metadata": {},
   "outputs": [],
   "source": [
    "%matplotlib inline "
   ]
  },
  {
   "cell_type": "code",
   "execution_count": 2,
   "metadata": {},
   "outputs": [
    {
     "name": "stderr",
     "output_type": "stream",
     "text": [
      "e:\\Python Projects\\Pokemon-Card-Identifier\\test_env\\lib\\site-packages\\tqdm\\auto.py:21: TqdmWarning: IProgress not found. Please update jupyter and ipywidgets. See https://ipywidgets.readthedocs.io/en/stable/user_install.html\n",
      "  from .autonotebook import tqdm as notebook_tqdm\n"
     ]
    }
   ],
   "source": [
    "from pokemon_image import *\n",
    "from affine_transform import *\n",
    "from model import *\n",
    "from tqdm import tqdm\n",
    "import pickle\n",
    "from torch.utils.data import DataLoader\n",
    "import torch.optim as optim\n",
    "from torch.nn import MSELoss"
   ]
  },
  {
   "cell_type": "code",
   "execution_count": 3,
   "metadata": {},
   "outputs": [],
   "source": [
    "class DataConfig:\n",
    "    image_dir = \"images\"\n",
    "    annotations_path = \"images/annotations.json\"\n",
    "    data_path = \"full_dataset.pkl\""
   ]
  },
  {
   "cell_type": "code",
   "execution_count": null,
   "metadata": {},
   "outputs": [],
   "source": [
    "# TRANSFORMATIONS = 500\n",
    "\n",
    "# def affine_transform_data(data):\n",
    "#     return [affine_transform_pokemon_image(i) for i in data]\n",
    "\n",
    "# data = load_image_data(\"images\", \"images/annotations.json\")\n",
    "# full_dataset = []\n",
    "# for _ in tqdm(range(TRANSFORMATIONS)):\n",
    "#     transformed_data = affine_transform_data(data)\n",
    "#     training_data = [\n",
    "#         (i.resized_image.float(), torch.tensor(i.resized_annotation).flatten().float())\n",
    "#         for i in transformed_data\n",
    "#     ]\n",
    "#     full_dataset.extend(training_data)\n",
    "# full_dataset += [\n",
    "#     (i.resized_image.float(), torch.tensor(i.resized_annotation).flatten().float()) for i in data\n",
    "# ]\n",
    "\n",
    "# with open(\"full_dataset.pkl\", \"wb\") as f:\n",
    "#     pickle.dump(full_dataset, f)"
   ]
  },
  {
   "cell_type": "code",
   "execution_count": 4,
   "metadata": {},
   "outputs": [],
   "source": [
    "# Load the data from the pickle file\n",
    "with open(DataConfig.data_path, \"rb\") as f:\n",
    "    full_dataset = pickle.load(f)"
   ]
  },
  {
   "cell_type": "code",
   "execution_count": 5,
   "metadata": {},
   "outputs": [],
   "source": [
    "class ModelConfig:\n",
    "    model_name = \"basic_hrnet\"\n",
    "    save_epochs = 5\n",
    "    final_layer_epochs = 10\n",
    "    full_model_epochs = 5\n",
    "    checkpoint_dir = \"model_checkpoints\"\n",
    "    final_layer_learning_rate = 0.01\n",
    "    full_model_learning_rate = 0.001\n",
    "    batch_size = 32"
   ]
  },
  {
   "cell_type": "code",
   "execution_count": 6,
   "metadata": {},
   "outputs": [],
   "source": [
    "dataset = PokemonData(full_dataset)\n",
    "dataloader = DataLoader(dataset, batch_size=ModelConfig.batch_size, shuffle=True)"
   ]
  },
  {
   "cell_type": "code",
   "execution_count": 7,
   "metadata": {},
   "outputs": [],
   "source": [
    "model = create_model(ModelConfig.model_name)\n",
    "loss_fn = MSELoss()"
   ]
  },
  {
   "cell_type": "code",
   "execution_count": null,
   "metadata": {},
   "outputs": [],
   "source": [
    "# # Phase 1: Train only the final layer\n",
    "# for name, param in model.named_parameters():\n",
    "#     if \"classifier\" not in name:\n",
    "#         param.requires_grad = False\n",
    "\n",
    "# optimizer = optim.Adam(model.parameters(), lr=ModelConfig.final_layer_learning_rate)\n",
    "\n",
    "# train_model(\n",
    "#     model=model,\n",
    "#     dataloader=dataloader,\n",
    "#     optimizer=optimizer,\n",
    "#     loss_fn=loss_fn,\n",
    "#     num_epochs=ModelConfig.final_layer_epochs,\n",
    "#     is_final_layer_only=True,\n",
    "#     save_epochs=ModelConfig.save_epochs,\n",
    "#     checkpoint_dir=ModelConfig.checkpoint_dir,\n",
    "#     model_name=ModelConfig.model_name\n",
    "# )"
   ]
  },
  {
   "cell_type": "code",
   "execution_count": 8,
   "metadata": {},
   "outputs": [
    {
     "name": "stderr",
     "output_type": "stream",
     "text": [
      "  0%|          | 0/5 [00:00<?, ?it/s]"
     ]
    }
   ],
   "source": [
    "# Phase 2: Train the entire model\n",
    "for param in model.parameters():\n",
    "    param.requires_grad = True\n",
    "\n",
    "optimizer = optim.Adam(model.parameters(), lr=ModelConfig.full_model_learning_rate)\n",
    "model, optimizer = load_latest_checkpoint(ModelConfig.checkpoint_dir, ModelConfig.model_name, model, optimizer)\n",
    "\n",
    "train_model(\n",
    "    model=model,\n",
    "    dataloader=dataloader,\n",
    "    optimizer=optimizer,\n",
    "    loss_fn=loss_fn,\n",
    "    num_epochs=ModelConfig.full_model_epochs,\n",
    "    is_final_layer_only=False,\n",
    "    save_epochs=ModelConfig.save_epochs,\n",
    "    checkpoint_dir=ModelConfig.checkpoint_dir,\n",
    "    model_name=ModelConfig.model_name\n",
    ")"
   ]
  },
  {
   "cell_type": "markdown",
   "metadata": {},
   "source": [
    "# Evaluation"
   ]
  },
  {
   "cell_type": "code",
   "execution_count": null,
   "metadata": {},
   "outputs": [],
   "source": [
    "data = load_image_data(DataConfig.image_dir, DataConfig.annotations_path)"
   ]
  },
  {
   "cell_type": "code",
   "execution_count": null,
   "metadata": {},
   "outputs": [],
   "source": [
    "for i in range(len(data)):\n",
    "    # Get prediction\n",
    "    pred_annotations = model(data[i].resized_image.float().unsqueeze(0)).detach().cpu()\n",
    "\n",
    "    # Call method to plot prediction\n",
    "    data[i].plot_prediction(pred_annotations.reshape(-1, 2).tolist())"
   ]
  }
 ],
 "metadata": {
  "kernelspec": {
   "display_name": "Python 3.9.0 ('test_env': venv)",
   "language": "python",
   "name": "python3"
  },
  "language_info": {
   "codemirror_mode": {
    "name": "ipython",
    "version": 3
   },
   "file_extension": ".py",
   "mimetype": "text/x-python",
   "name": "python",
   "nbconvert_exporter": "python",
   "pygments_lexer": "ipython3",
   "version": "3.9.0"
  },
  "orig_nbformat": 4,
  "vscode": {
   "interpreter": {
    "hash": "c80c09c1b298b3abc58855546266a88101147539d25dab50d705a2cf327760dc"
   }
  }
 },
 "nbformat": 4,
 "nbformat_minor": 2
}
